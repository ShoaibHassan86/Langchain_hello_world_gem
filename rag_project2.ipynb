{
  "nbformat": 4,
  "nbformat_minor": 0,
  "metadata": {
    "colab": {
      "provenance": [],
      "authorship_tag": "ABX9TyPiij8dn+zv7MhKnAivpeeR",
      "include_colab_link": true
    },
    "kernelspec": {
      "name": "python3",
      "display_name": "Python 3"
    },
    "language_info": {
      "name": "python"
    }
  },
  "cells": [
    {
      "cell_type": "markdown",
      "metadata": {
        "id": "view-in-github",
        "colab_type": "text"
      },
      "source": [
        "<a href=\"https://colab.research.google.com/github/ShoaibHassan86/Langchain_hello_world_gem/blob/main/rag_project2.ipynb\" target=\"_parent\"><img src=\"https://colab.research.google.com/assets/colab-badge.svg\" alt=\"Open In Colab\"/></a>"
      ]
    },
    {
      "cell_type": "code",
      "execution_count": 23,
      "metadata": {
        "id": "gti2dx1j-QQX"
      },
      "outputs": [],
      "source": [
        "%pip install -qU langchain-pinecone langchain-google-genai"
      ]
    },
    {
      "cell_type": "code",
      "source": [
        "%pip install -qU pypdf"
      ],
      "metadata": {
        "colab": {
          "base_uri": "https://localhost:8080/"
        },
        "id": "af5gDBm6-eTa",
        "outputId": "32a15737-ab22-40b5-a52f-cd08bf59a363"
      },
      "execution_count": 2,
      "outputs": [
        {
          "output_type": "stream",
          "name": "stdout",
          "text": [
            "\u001b[?25l   \u001b[90m━━━━━━━━━━━━━━━━━━━━━━━━━━━━━━━━━━━━━━━━\u001b[0m \u001b[32m0.0/298.0 kB\u001b[0m \u001b[31m?\u001b[0m eta \u001b[36m-:--:--\u001b[0m\r\u001b[2K   \u001b[91m━━━━━━━━━━━━━━━━━━━━━━━━━━━━━━━━━━━━━━━\u001b[0m\u001b[91m╸\u001b[0m \u001b[32m297.0/298.0 kB\u001b[0m \u001b[31m10.8 MB/s\u001b[0m eta \u001b[36m0:00:01\u001b[0m\r\u001b[2K   \u001b[90m━━━━━━━━━━━━━━━━━━━━━━━━━━━━━━━━━━━━━━━━\u001b[0m \u001b[32m298.0/298.0 kB\u001b[0m \u001b[31m8.0 MB/s\u001b[0m eta \u001b[36m0:00:00\u001b[0m\n",
            "\u001b[?25h"
          ]
        }
      ]
    },
    {
      "cell_type": "code",
      "source": [
        "pip install pinecone-client\n"
      ],
      "metadata": {
        "colab": {
          "base_uri": "https://localhost:8080/"
        },
        "id": "Z8QXGNRYBa8A",
        "outputId": "4b257012-194e-4604-e59b-3a3211761896"
      },
      "execution_count": 24,
      "outputs": [
        {
          "output_type": "stream",
          "name": "stdout",
          "text": [
            "Requirement already satisfied: pinecone-client in /usr/local/lib/python3.10/dist-packages (5.0.1)\n",
            "Requirement already satisfied: certifi>=2019.11.17 in /usr/local/lib/python3.10/dist-packages (from pinecone-client) (2024.12.14)\n",
            "Requirement already satisfied: pinecone-plugin-inference<2.0.0,>=1.0.3 in /usr/local/lib/python3.10/dist-packages (from pinecone-client) (1.1.0)\n",
            "Requirement already satisfied: pinecone-plugin-interface<0.0.8,>=0.0.7 in /usr/local/lib/python3.10/dist-packages (from pinecone-client) (0.0.7)\n",
            "Requirement already satisfied: tqdm>=4.64.1 in /usr/local/lib/python3.10/dist-packages (from pinecone-client) (4.67.1)\n",
            "Requirement already satisfied: typing-extensions>=3.7.4 in /usr/local/lib/python3.10/dist-packages (from pinecone-client) (4.12.2)\n",
            "Requirement already satisfied: urllib3>=1.26.0 in /usr/local/lib/python3.10/dist-packages (from pinecone-client) (2.2.3)\n"
          ]
        }
      ]
    },
    {
      "cell_type": "code",
      "source": [
        "pip install tiktoken\n"
      ],
      "metadata": {
        "colab": {
          "base_uri": "https://localhost:8080/"
        },
        "id": "0NGGI_7WBeMY",
        "outputId": "7c3aa87a-3ad8-4665-ba85-623a2f1c8cd8"
      },
      "execution_count": 25,
      "outputs": [
        {
          "output_type": "stream",
          "name": "stdout",
          "text": [
            "Collecting tiktoken\n",
            "  Downloading tiktoken-0.8.0-cp310-cp310-manylinux_2_17_x86_64.manylinux2014_x86_64.whl.metadata (6.6 kB)\n",
            "Requirement already satisfied: regex>=2022.1.18 in /usr/local/lib/python3.10/dist-packages (from tiktoken) (2024.11.6)\n",
            "Requirement already satisfied: requests>=2.26.0 in /usr/local/lib/python3.10/dist-packages (from tiktoken) (2.32.3)\n",
            "Requirement already satisfied: charset-normalizer<4,>=2 in /usr/local/lib/python3.10/dist-packages (from requests>=2.26.0->tiktoken) (3.4.0)\n",
            "Requirement already satisfied: idna<4,>=2.5 in /usr/local/lib/python3.10/dist-packages (from requests>=2.26.0->tiktoken) (3.10)\n",
            "Requirement already satisfied: urllib3<3,>=1.21.1 in /usr/local/lib/python3.10/dist-packages (from requests>=2.26.0->tiktoken) (2.2.3)\n",
            "Requirement already satisfied: certifi>=2017.4.17 in /usr/local/lib/python3.10/dist-packages (from requests>=2.26.0->tiktoken) (2024.12.14)\n",
            "Downloading tiktoken-0.8.0-cp310-cp310-manylinux_2_17_x86_64.manylinux2014_x86_64.whl (1.2 MB)\n",
            "\u001b[2K   \u001b[90m━━━━━━━━━━━━━━━━━━━━━━━━━━━━━━━━━━━━━━━━\u001b[0m \u001b[32m1.2/1.2 MB\u001b[0m \u001b[31m17.3 MB/s\u001b[0m eta \u001b[36m0:00:00\u001b[0m\n",
            "\u001b[?25hInstalling collected packages: tiktoken\n",
            "Successfully installed tiktoken-0.8.0\n"
          ]
        }
      ]
    },
    {
      "cell_type": "code",
      "source": [
        "# KEYS, MODELS and ENV Related Settings\n",
        "import os\n",
        "os.environ[\"GOOGLE_API_KEY\"] = \"GOOGLE_API_KEY\"\n",
        "OPENAI_API_KEY = os.environ[\"GOOGLE_API_KEY\"]\n",
        "\n",
        "embed_model = \"text-embedding-ada-001\"\n",
        "\n",
        "\n",
        "os.environ[\"PINECONE_API_KEY\"] = \"PINECONE_API_KEY\"\n",
        "PINECONE_API_KEY = os.environ['PINECONE_API_KEY']\n",
        "PINECONE_ENV = \"\""
      ],
      "metadata": {
        "id": "FQdjOBRNBhux"
      },
      "execution_count": 26,
      "outputs": []
    },
    {
      "cell_type": "code",
      "source": [
        "from langchain_google_genai import GoogleGenerativeAIEmbeddings\n",
        "import os\n",
        "os.environ[\"GOOGLE_API_KEY\"]=userdata.get(\"GOOGLE_API_KEY\")\n",
        "\n",
        "embeddings = GoogleGenerativeAIEmbeddings(model=\"models/embedding-001\")"
      ],
      "metadata": {
        "id": "kqVeBSXDB8Ed"
      },
      "execution_count": 27,
      "outputs": []
    },
    {
      "cell_type": "code",
      "source": [
        "!pip install PyPDF2\n"
      ],
      "metadata": {
        "colab": {
          "base_uri": "https://localhost:8080/"
        },
        "id": "rQHGhidKCkSE",
        "outputId": "2fbd0fe8-f1bf-4255-e1f6-5674b49e4d19"
      },
      "execution_count": 34,
      "outputs": [
        {
          "output_type": "stream",
          "name": "stdout",
          "text": [
            "Collecting PyPDF2\n",
            "  Downloading pypdf2-3.0.1-py3-none-any.whl.metadata (6.8 kB)\n",
            "Downloading pypdf2-3.0.1-py3-none-any.whl (232 kB)\n",
            "\u001b[?25l   \u001b[90m━━━━━━━━━━━━━━━━━━━━━━━━━━━━━━━━━━━━━━━━\u001b[0m \u001b[32m0.0/232.6 kB\u001b[0m \u001b[31m?\u001b[0m eta \u001b[36m-:--:--\u001b[0m\r\u001b[2K   \u001b[91m━━━━━━━━━━━━━━━━━━━━━━━━━━━━━━━━━━━━━━\u001b[0m\u001b[91m╸\u001b[0m\u001b[90m━\u001b[0m \u001b[32m225.3/232.6 kB\u001b[0m \u001b[31m7.7 MB/s\u001b[0m eta \u001b[36m0:00:01\u001b[0m\r\u001b[2K   \u001b[90m━━━━━━━━━━━━━━━━━━━━━━━━━━━━━━━━━━━━━━━━\u001b[0m \u001b[32m232.6/232.6 kB\u001b[0m \u001b[31m6.0 MB/s\u001b[0m eta \u001b[36m0:00:00\u001b[0m\n",
            "\u001b[?25hInstalling collected packages: PyPDF2\n",
            "Successfully installed PyPDF2-3.0.1\n"
          ]
        }
      ]
    },
    {
      "cell_type": "code",
      "source": [
        "import PyPDF2\n",
        "\n",
        "# Open the PDF file\n",
        "with open('/content/agentic-ai-the-new-frontier-in-genai-an-executive-playbook.pdf', 'rb') as file:\n",
        "    # Create a PDF reader object\n",
        "    reader = PyPDF2.PdfReader(file)\n",
        "\n",
        "    # Initialize a variable to store all the text\n",
        "    text = \"\"\n",
        "\n",
        "    # Loop through all the pages and extract text\n",
        "    for page_num in range(len(reader.pages)):\n",
        "        page = reader.pages[page_num]\n",
        "        text += page.extract_text()\n",
        "\n",
        "# Print the first 1000 characters of the extracted text\n",
        "print(text[:2000])\n"
      ],
      "metadata": {
        "colab": {
          "base_uri": "https://localhost:8080/"
        },
        "id": "mAX5kjtVCUdV",
        "outputId": "d3592450-a776-4d67-95d1-87e049d9d6d4"
      },
      "execution_count": 36,
      "outputs": [
        {
          "output_type": "stream",
          "name": "stdout",
          "text": [
            "Agentic AI \n",
            "– the new \n",
            "frontier in \n",
            "GenAI \n",
            "An executive playbook Harnessing AI isn’t just about \n",
            "technology— it’s about unleashing \n",
            "unprecedented potential. \n",
            "In an era where speed, eﬃciency, and customer centricity dictate market leadership, organisations need to \n",
            "harness every tool at their disposal. Over the past couple of years, artiﬁcial intelligence (AI) has exploded onto \n",
            "the world stage, with companies and individuals across the globe rapidly adopting the technology. The GCC is \n",
            "playing a lead role in the space, with business leaders in the region exploring ways of integrating this rapidly \n",
            "developing technology into their operations. \n",
            "Generative AI (GenAI) is being recognised as a game-changer for innovation in the region, empowering \n",
            "enterprises by automating routine tasks, enhancing customer experiences and assisting in critical \n",
            "decision-making processes. Insights from our 27th Annual CEO Survey: Middle East ﬁndings have shown that \n",
            "73% of CEOs in the Middle East believe GenAI will signiﬁcantly change the way their company creates, delivers \n",
            "and captures value over the next three years1. GenAI is poised to make a signiﬁcant economic impact, with \n",
            "estimates indicating that it could contribute between $2.6 trillion and $4.4 trillion annually to global GDP across \n",
            "various industries by 2030. In speciﬁc sectors, such as energy, investments in GenAI are expected to triple, \n",
            "from $40 billion in 2023 to over $140 billion by the end of the decade. This surge in investment reﬂects the \n",
            "transformative potential of GenAI, particularly in enhancing productivity, streamlining business processes, and \n",
            "reshaping value chains across industries2.\n",
            "Against this backdrop, multimodal GenAI agentic frameworks has emerged as transformative catalysts, \n",
            "enabling businesses to accelerate process automation at an unprecedented scale. This technology involves \n",
            "multiple AI agents working together, each specialising in diﬀerent tasks or data types, to solve complex \n",
            "problems and autom\n"
          ]
        }
      ]
    },
    {
      "cell_type": "code",
      "source": [
        "with open('extracted_text.txt', 'w') as output_file:\n",
        "    output_file.write(text)\n"
      ],
      "metadata": {
        "id": "WFPJPh4CDKdu"
      },
      "execution_count": 52,
      "outputs": []
    },
    {
      "cell_type": "code",
      "source": [
        "query = \"Agentic AI\"\n",
        "if query in text:\n",
        "    print(f\"Found '{query}' in the document!\")\n",
        "else:\n",
        "    print(f\"'{query}' not found in the document.\")\n"
      ],
      "metadata": {
        "colab": {
          "base_uri": "https://localhost:8080/"
        },
        "id": "oIg4GYM2D8kw",
        "outputId": "1970e113-7e0b-4199-87e9-f64962a5143c"
      },
      "execution_count": 54,
      "outputs": [
        {
          "output_type": "stream",
          "name": "stdout",
          "text": [
            "Found 'Agentic AI' in the document!\n"
          ]
        }
      ]
    },
    {
      "cell_type": "code",
      "source": [
        "import re\n",
        "\n",
        "# Define your query pattern (e.g., finding all mentions of 'AI' followed by a word)\n",
        "query = r\"AI\\s+\\w+\"\n",
        "\n",
        "matches = re.findall(query, text)\n",
        "if matches:\n",
        "    print(\"Found the following matches:\")\n",
        "    print(matches)\n",
        "else:\n",
        "    print(\"No matches found.\")\n"
      ],
      "metadata": {
        "colab": {
          "base_uri": "https://localhost:8080/"
        },
        "id": "E1EXB5TvEaRN",
        "outputId": "e647a8a4-4524-4b28-f4c5-3d9bda96cc61"
      },
      "execution_count": 47,
      "outputs": [
        {
          "output_type": "stream",
          "name": "stdout",
          "text": [
            "Found the following matches:\n",
            "['AI \\nAn', 'AI isn', 'AI will', 'AI is', 'AI are', 'AI agentic', 'AI agents', 'AI techniques', 'AI strategies', 'AI capabilities', 'AI \\nsafeguards', 'AI can', 'AI generally', 'AI systems', 'AI \\nAutonomy', 'AI systems', 'AI agents', 'AI interacts', 'AI systems', 'AI agents', 'AI \\nfacilitates', 'AI agents', 'AI agents', 'AI agent', 'AI particularly', 'AI turn', 'AI oﬀers', 'AI can', 'AI system', 'AI systems', 'AI \\ncan', 'AI systems', 'AI systems', 'AI can', 'AI can', 'AI can', 'AI to', 'AI systems', 'AI surpasses', 'AI allows', 'AI performs', 'AI \\nsolutions', 'AI business', 'AI systems', 'AI agents', 'AI customer', 'AI penetration', 'AI applications', 'AI systems', 'AI solutions', 'AI in', 'AI capabilities', 'AI systems', 'AI \\noperates', 'AI services', 'AI for', 'AI services', 'AI to', 'AI solutions', 'AI solutions', 'AI integration', 'AI \\nsolutions', 'AI models', 'AI models', 'AI models', 'AI into', 'AI processes', 'AI Models', 'AI to', 'AI models', 'AI to', 'AI models', 'AI models', 'AI models', 'AI models', 'AI to', 'AI models', 'AI models', 'AI Financial', 'AI models', 'AI models', 'AI models', 'AI ensures', 'AI models', 'AI \\nmodels', 'AI models', 'AI models', 'AI chatbots', 'AI models', 'AI models', 'AI \\nmodels', 'AI to', 'AI models', 'AI platform', 'AI virtual', 'AI models', 'AI for', 'AI to', 'AI models', 'AI platforms', 'AI to', 'AI Models', 'AI platform', 'AI Models', 'AI model', 'AI platform', 'AI models', 'AI Financial', 'AI models', 'AI to', 'AI Models', 'AI with', 'AI chatbots', 'AI analyses', 'AI models', 'AI agentic', 'AI agents', 'AI enthusiasts', 'AI agent', 'AI tools', 'AI oﬀer', 'AI tools', 'AI features', 'AI solutions', 'AI strategy', 'AI capability', 'AI strategy', 'AI roadmap', 'AI initiatives', 'AI projects', 'AI eﬀorts', 'AI initiatives', 'AI can', 'AI ROI', 'AI experts', 'AI strategy', 'AI integration', 'AI solutions', 'AI in', 'AI \\nacross', 'AI systems', 'AI governance', 'AI by', 'AI investments', 'AI hype', 'AI solutions', 'AI to', 'AI solutions', 'AI systems', 'AI \\ninitiatives', 'AI \\nsystems', 'AI tools', 'AI solutions', 'AI systems', 'AI platforms', 'AI platforms', 'AI capabilities', 'AI advancements', 'AI solutions', 'AI investments', 'AI hype', 'AI projects', 'AI without', 'AI can', 'AI solutions', 'AI use', 'AI \\nsystems', 'AI use', 'AI adoption', 'AI tools', 'AI integration', 'AI experts', 'AI strategy', 'AI investments', 'AI systems', 'AI will', 'AI to', 'AI point', 'AI solutions', 'AI strategies', 'AI solutions', 'AI systems', 'AI systems', 'AI is', 'AI adoption', 'AI is', 'AI the', 'AI will', 'AI  \\n6', 'AI  \\n8', 'AI Success', 'AI ZONE', 'AI can', 'AI Marketing', 'AI Solutions', 'AI  \\n31', 'AI Overview']\n"
          ]
        }
      ]
    },
    {
      "cell_type": "code",
      "source": [
        "# Split the text into paragraphs or sentences\n",
        "paragraphs = text.split('\\n')  # assuming paragraphs are separated by newlines\n",
        "\n",
        "# Search through each paragraph\n",
        "query = \"agentic AI\"\n",
        "for i, paragraph in enumerate(paragraphs):\n",
        "    if query in paragraph:\n",
        "        print(f\"Found in paragraph {i + 1}:\")\n",
        "        print(paragraph)\n"
      ],
      "metadata": {
        "colab": {
          "base_uri": "https://localhost:8080/"
        },
        "id": "ZV96Sna2EhF4",
        "outputId": "61217454-3be6-4a73-bf7b-1f24ed664e8c"
      },
      "execution_count": 66,
      "outputs": [
        {
          "output_type": "stream",
          "name": "stdout",
          "text": [
            "Found in paragraph 41:\n",
            "●Integrated eﬀectively, agentic AI can enhance eﬃciency, lower costs, improve customer experience, and \n",
            "Found in paragraph 42:\n",
            "drive revenue growth. What is agentic AI? \n",
            "Found in paragraph 48:\n",
            "Key aspects of agentic AI \n",
            "Found in paragraph 60:\n",
            "agentic AI interacts with its \n",
            "Found in paragraph 65:\n",
            "agentic AI systems employ \n",
            "Found in paragraph 144:\n",
            "various mission-critical business processes. This autonomy makes agentic AI particularly powerful in dynamic \n",
            "Found in paragraph 154:\n",
            "tasks and providing intelligent insights, agentic AI can help organisations save time, reduce cost, and improve overall \n",
            "Found in paragraph 155:\n",
            "productivity. Moreover, organisations who adopt an agentic AI system can gain a competitive advantage by leveraging its \n",
            "Found in paragraph 161:\n",
            "business environments, driving higher productivity and enabling organisations to stay competitive. For example, agentic AI \n",
            "Found in paragraph 164:\n",
            "Moreover, agentic AI systems can handle large volumes of data and extract actionable insights, which can be used to \n",
            "Found in paragraph 174:\n",
            "allows employees to focus on more strategic and creative activities. For example, in customer service, agentic AI can \n",
            "Found in paragraph 177:\n",
            "By integrating agentic AI, businesses can oﬀer personalised and responsive customer experiences. AI-driven chatbots and \n",
            "Found in paragraph 187:\n",
            "enhanced human-like interactions (enhanced software-as-a-service), agentic AI surpasses both in terms of accuracy, \n",
            "Found in paragraph 191:\n",
            "contrast, the novel approach of agentic AI allows it to understand nuances in language, generating accurate responses \n",
            "Found in paragraph 197:\n",
            "interactions. Whereas agentic AI’s orchestration capability helps it excel at tracking conversation history, \n",
            "Found in paragraph 203:\n",
            "systems. The agentic AI performs dynamic reasoning and decision-making, leveraging a series of autonomous agents, \n",
            "Found in paragraph 222:\n",
            "Orchestrator agent Master agent How to conceptualise agentic AI \n",
            "Found in paragraph 224:\n",
            "Organisations managing day-to-day operations stand to gain signiﬁcantly from agentic AI systems, embracing the \n",
            "Found in paragraph 300:\n",
            "equipment health and proactive maintenance orchestrated by the agentic AI models. \n",
            "Found in paragraph 677:\n",
            "When deciding between commercial vs open-source agentic AI tools, consider your organisation’s needs, \n",
            "Found in paragraph 686:\n",
            "The agentic AI tools ecosystem is expected to witness a rapid surge over the next few quarters. Commercial \n",
            "Found in paragraph 689:\n",
            "contributions, leading to rapid innovation in depth and coverage of agentic AI features and increased adoption. \n",
            "Found in paragraph 717:\n",
            "●Start small: Begin with small pilot projects to test the eﬀectiveness of agentic AI in your business environment. \n",
            "Found in paragraph 735:\n",
            "Vision alignment ●Gradual expansion: Once the pilot projects are successful, gradually scale up the implementation of agentic AI \n",
            "Found in paragraph 739:\n",
            "●Monitor and optimise: Continuously monitor the performance of agentic AI systems and optimise them for better \n",
            "Found in paragraph 761:\n",
            "of agentic AI to set realistic expectations. \n",
            "Found in paragraph 809:\n",
            "By harnessing the unprecedented capabilities of agentic AI systems, both government entities and organisations can \n",
            "Found in paragraph 814:\n",
            "stability, and sustainability, leveraging agentic AI to orchestrate complex systems. In contrast, organisations aiming \n",
            "Found in paragraph 815:\n",
            "for proﬁtability growth, cost optimisation, and competitive advantage can focus on developing agentic AI point \n",
            "Found in paragraph 818:\n",
            "opportunity window with agentic AI solutions and adopt a strategic approach, recalibrating AI strategies to fully \n",
            "Found in paragraph 819:\n",
            "harness agentic AI solutions across a broader spectrum of business use cases and processes. Only a handful—like \n",
            "Found in paragraph 821:\n",
            "redeﬁne value creation mechanisms. In this transformation, agentic AI systems will take the lead role with humans as \n",
            "Found in paragraph 828:\n",
            "As agentic AI systems become more integrated, they will redeﬁne how we work, pushing the boundaries of possibility \n",
            "Found in paragraph 829:\n",
            "and enabling a smarter, more agile world. The future of agentic AI is nearer than anticipated, propelled by rapid \n",
            "Found in paragraph 834:\n",
            "C-suite executives and senior leaders, embracing agentic AI is not just an option but a strategic imperative to stay \n"
          ]
        }
      ]
    },
    {
      "cell_type": "code",
      "source": [
        "# Split the text into paragraphs (assuming text is already split into lines)\n",
        "paragraphs = text.split('\\n')  # assuming paragraphs are separated by newlines\n",
        "\n",
        "# Define filters\n",
        "min_length = 20  # Minimum length of paragraph (in characters)\n",
        "max_length = 150  # Maximum length of paragraph (in characters)\n",
        "min_occurrences = 1  # Minimum number of times the query should appear in the paragraph\n",
        "\n",
        "# Query to search for\n",
        "query = \"agentic AI\"\n",
        "\n",
        "# Search through each paragraph and apply the combined filters\n",
        "for i, paragraph in enumerate(paragraphs):\n",
        "    # Check if the query is present in the paragraph (case-insensitive search)\n",
        "    if query.lower() in paragraph.lower():\n",
        "        # Apply the filters\n",
        "        if min_length <= len(paragraph) <= max_length and paragraph.lower().count(query.lower()) >= min_occurrences:\n",
        "            print(f\"Found in paragraph {i + 1}:\")\n",
        "            print(paragraph)\n",
        "            print(\"\\n\" + \"-\" * 50)  # Add a separator for readability\n",
        "\n"
      ],
      "metadata": {
        "colab": {
          "base_uri": "https://localhost:8080/"
        },
        "id": "UiEjbvuyIaMH",
        "outputId": "96b71fcb-271d-4224-918f-f13603ff1f6b"
      },
      "execution_count": 74,
      "outputs": [
        {
          "output_type": "stream",
          "name": "stdout",
          "text": [
            "Found in paragraph 35:\n",
            "●Agentic AI, diﬀerentiated by its advanced human-like reasoning and interaction capabilities, is \n",
            "\n",
            "--------------------------------------------------\n",
            "Found in paragraph 41:\n",
            "●Integrated eﬀectively, agentic AI can enhance eﬃciency, lower costs, improve customer experience, and \n",
            "\n",
            "--------------------------------------------------\n",
            "Found in paragraph 42:\n",
            "drive revenue growth. What is agentic AI? \n",
            "\n",
            "--------------------------------------------------\n",
            "Found in paragraph 43:\n",
            "Agentic AI generally refers to AI systems that \n",
            "\n",
            "--------------------------------------------------\n",
            "Found in paragraph 48:\n",
            "Key aspects of agentic AI \n",
            "\n",
            "--------------------------------------------------\n",
            "Found in paragraph 49:\n",
            "Autonomy: Agentic AI systems \n",
            "\n",
            "--------------------------------------------------\n",
            "Found in paragraph 60:\n",
            "agentic AI interacts with its \n",
            "\n",
            "--------------------------------------------------\n",
            "Found in paragraph 65:\n",
            "agentic AI systems employ \n",
            "\n",
            "--------------------------------------------------\n",
            "Found in paragraph 81:\n",
            "conversation: Agentic AI \n",
            "\n",
            "--------------------------------------------------\n",
            "Found in paragraph 144:\n",
            "various mission-critical business processes. This autonomy makes agentic AI particularly powerful in dynamic \n",
            "\n",
            "--------------------------------------------------\n",
            "Found in paragraph 153:\n",
            "Agentic AI oﬀers signiﬁcant advantages in eﬃciency, decision-making, and customer interaction. By automating routine \n",
            "\n",
            "--------------------------------------------------\n",
            "Found in paragraph 154:\n",
            "tasks and providing intelligent insights, agentic AI can help organisations save time, reduce cost, and improve overall \n",
            "\n",
            "--------------------------------------------------\n",
            "Found in paragraph 155:\n",
            "productivity. Moreover, organisations who adopt an agentic AI system can gain a competitive advantage by leveraging its \n",
            "\n",
            "--------------------------------------------------\n",
            "Found in paragraph 159:\n",
            "Agentic AI systems can signiﬁcantly enhance an organisation’s competitive edge by automating complex workﬂows, \n",
            "\n",
            "--------------------------------------------------\n",
            "Found in paragraph 161:\n",
            "business environments, driving higher productivity and enabling organisations to stay competitive. For example, agentic AI \n",
            "\n",
            "--------------------------------------------------\n",
            "Found in paragraph 164:\n",
            "Moreover, agentic AI systems can handle large volumes of data and extract actionable insights, which can be used to \n",
            "\n",
            "--------------------------------------------------\n",
            "Found in paragraph 168:\n",
            "Agentic AI systems can analyse vast amounts of data quickly and accurately, providing valuable insights to inform better \n",
            "\n",
            "--------------------------------------------------\n",
            "Found in paragraph 173:\n",
            "Agentic AI can signiﬁcantly enhance business eﬃciency and productivity by automating routine tasks and processes. This \n",
            "\n",
            "--------------------------------------------------\n",
            "Found in paragraph 174:\n",
            "allows employees to focus on more strategic and creative activities. For example, in customer service, agentic AI can \n",
            "\n",
            "--------------------------------------------------\n",
            "Found in paragraph 177:\n",
            "By integrating agentic AI, businesses can oﬀer personalised and responsive customer experiences. AI-driven chatbots and \n",
            "\n",
            "--------------------------------------------------\n",
            "Found in paragraph 184:\n",
            "Agentic AI systems are redeﬁning customer service centres and are gaining popularity as a game-changing capability \n",
            "\n",
            "--------------------------------------------------\n",
            "Found in paragraph 187:\n",
            "enhanced human-like interactions (enhanced software-as-a-service), agentic AI surpasses both in terms of accuracy, \n",
            "\n",
            "--------------------------------------------------\n",
            "Found in paragraph 191:\n",
            "contrast, the novel approach of agentic AI allows it to understand nuances in language, generating accurate responses \n",
            "\n",
            "--------------------------------------------------\n",
            "Found in paragraph 197:\n",
            "interactions. Whereas agentic AI’s orchestration capability helps it excel at tracking conversation history, \n",
            "\n",
            "--------------------------------------------------\n",
            "Found in paragraph 203:\n",
            "systems. The agentic AI performs dynamic reasoning and decision-making, leveraging a series of autonomous agents, \n",
            "\n",
            "--------------------------------------------------\n",
            "Found in paragraph 222:\n",
            "Orchestrator agent Master agent How to conceptualise agentic AI \n",
            "\n",
            "--------------------------------------------------\n",
            "Found in paragraph 223:\n",
            "solutions for future business operations Agentic AI business imperatives \n",
            "\n",
            "--------------------------------------------------\n",
            "Found in paragraph 224:\n",
            "Organisations managing day-to-day operations stand to gain signiﬁcantly from agentic AI systems, embracing the \n",
            "\n",
            "--------------------------------------------------\n",
            "Found in paragraph 300:\n",
            "equipment health and proactive maintenance orchestrated by the agentic AI models. \n",
            "\n",
            "--------------------------------------------------\n",
            "Found in paragraph 677:\n",
            "When deciding between commercial vs open-source agentic AI tools, consider your organisation’s needs, \n",
            "\n",
            "--------------------------------------------------\n",
            "Found in paragraph 686:\n",
            "The agentic AI tools ecosystem is expected to witness a rapid surge over the next few quarters. Commercial \n",
            "\n",
            "--------------------------------------------------\n",
            "Found in paragraph 689:\n",
            "contributions, leading to rapid innovation in depth and coverage of agentic AI features and increased adoption. \n",
            "\n",
            "--------------------------------------------------\n",
            "Found in paragraph 717:\n",
            "●Start small: Begin with small pilot projects to test the eﬀectiveness of agentic AI in your business environment. \n",
            "\n",
            "--------------------------------------------------\n",
            "Found in paragraph 735:\n",
            "Vision alignment ●Gradual expansion: Once the pilot projects are successful, gradually scale up the implementation of agentic AI \n",
            "\n",
            "--------------------------------------------------\n",
            "Found in paragraph 739:\n",
            "●Monitor and optimise: Continuously monitor the performance of agentic AI systems and optimise them for better \n",
            "\n",
            "--------------------------------------------------\n",
            "Found in paragraph 761:\n",
            "of agentic AI to set realistic expectations. \n",
            "\n",
            "--------------------------------------------------\n",
            "Found in paragraph 809:\n",
            "By harnessing the unprecedented capabilities of agentic AI systems, both government entities and organisations can \n",
            "\n",
            "--------------------------------------------------\n",
            "Found in paragraph 814:\n",
            "stability, and sustainability, leveraging agentic AI to orchestrate complex systems. In contrast, organisations aiming \n",
            "\n",
            "--------------------------------------------------\n",
            "Found in paragraph 815:\n",
            "for proﬁtability growth, cost optimisation, and competitive advantage can focus on developing agentic AI point \n",
            "\n",
            "--------------------------------------------------\n",
            "Found in paragraph 818:\n",
            "opportunity window with agentic AI solutions and adopt a strategic approach, recalibrating AI strategies to fully \n",
            "\n",
            "--------------------------------------------------\n",
            "Found in paragraph 819:\n",
            "harness agentic AI solutions across a broader spectrum of business use cases and processes. Only a handful—like \n",
            "\n",
            "--------------------------------------------------\n",
            "Found in paragraph 821:\n",
            "redeﬁne value creation mechanisms. In this transformation, agentic AI systems will take the lead role with humans as \n",
            "\n",
            "--------------------------------------------------\n",
            "Found in paragraph 828:\n",
            "As agentic AI systems become more integrated, they will redeﬁne how we work, pushing the boundaries of possibility \n",
            "\n",
            "--------------------------------------------------\n",
            "Found in paragraph 829:\n",
            "and enabling a smarter, more agile world. The future of agentic AI is nearer than anticipated, propelled by rapid \n",
            "\n",
            "--------------------------------------------------\n",
            "Found in paragraph 834:\n",
            "C-suite executives and senior leaders, embracing agentic AI is not just an option but a strategic imperative to stay \n",
            "\n",
            "--------------------------------------------------\n",
            "Found in paragraph 855:\n",
            "1. Agentic AI: A deep dive into the future of automation | VentureBeat  \n",
            "\n",
            "--------------------------------------------------\n",
            "Found in paragraph 857:\n",
            "3. What is Agentic AI? Key Beneﬁts and Use Cases  \n",
            "\n",
            "--------------------------------------------------\n",
            "Found in paragraph 858:\n",
            "4. Agentic AI: The Next Evolution of Enterprise AI | Moveworks  \n",
            "\n",
            "--------------------------------------------------\n",
            "Found in paragraph 860:\n",
            "6. Agentic AI: The Next Evolution of Enterprise AI | Moveworks  \n",
            "\n",
            "--------------------------------------------------\n",
            "Found in paragraph 888:\n",
            "32. Agentic AI Overview, Applications and Use Cases  \n",
            "\n",
            "--------------------------------------------------\n"
          ]
        }
      ]
    }
  ]
}