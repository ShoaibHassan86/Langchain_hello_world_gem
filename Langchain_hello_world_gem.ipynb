{
  "nbformat": 4,
  "nbformat_minor": 0,
  "metadata": {
    "colab": {
      "provenance": [],
      "authorship_tag": "ABX9TyPdqTia5vyy52i9kJ6NEhe0",
      "include_colab_link": true
    },
    "kernelspec": {
      "name": "python3",
      "display_name": "Python 3"
    },
    "language_info": {
      "name": "python"
    }
  },
  "cells": [
    {
      "cell_type": "markdown",
      "metadata": {
        "id": "view-in-github",
        "colab_type": "text"
      },
      "source": [
        "<a href=\"https://colab.research.google.com/github/ShoaibHassan86/Langchain_hello_world_gem/blob/main/Langchain_hello_world_gem.ipynb\" target=\"_parent\"><img src=\"https://colab.research.google.com/assets/colab-badge.svg\" alt=\"Open In Colab\"/></a>"
      ]
    },
    {
      "cell_type": "markdown",
      "source": [
        "**Step 1: Install Required Libraries**\n",
        "Install the necessary libraries (langchain and langchain-google-genai) for using LangChain with Google Generative AI."
      ],
      "metadata": {
        "id": "-a962XHhg5Dh"
      }
    },
    {
      "cell_type": "code",
      "execution_count": 3,
      "metadata": {
        "colab": {
          "base_uri": "https://localhost:8080/"
        },
        "id": "F-tHIL0IeAkf",
        "outputId": "48aea4e5-dfb8-4a7b-fd8b-b5b4e4a5c80f"
      },
      "outputs": [
        {
          "output_type": "stream",
          "name": "stdout",
          "text": [
            "\u001b[?25l   \u001b[90m━━━━━━━━━━━━━━━━━━━━━━━━━━━━━━━━━━━━━━━━\u001b[0m \u001b[32m0.0/41.3 kB\u001b[0m \u001b[31m?\u001b[0m eta \u001b[36m-:--:--\u001b[0m\r\u001b[2K   \u001b[90m━━━━━━━━━━━━━━━━━━━━━━━━━━━━━━━━━━━━━━━━\u001b[0m \u001b[32m41.3/41.3 kB\u001b[0m \u001b[31m2.4 MB/s\u001b[0m eta \u001b[36m0:00:00\u001b[0m\n",
            "\u001b[?25h"
          ]
        }
      ],
      "source": [
        "!pip install -Uq langchain langchain-google-genai\n"
      ]
    },
    {
      "cell_type": "markdown",
      "source": [
        "**Step 2: Import Necessary Modules**\n",
        "Import the required modules for interacting with LangChain and Google Generative AI."
      ],
      "metadata": {
        "id": "75t8UhNng-Xp"
      }
    },
    {
      "cell_type": "code",
      "source": [
        "import langchain_google_genai as genai\n",
        "from langchain_google_genai import ChatGoogleGenerativeAI\n"
      ],
      "metadata": {
        "id": "FcWZl6JEeYDv"
      },
      "execution_count": 4,
      "outputs": []
    },
    {
      "cell_type": "markdown",
      "source": [
        "**Step 3: Fetch API Key**\n",
        "Retrieve the Google API key from Google Colab's userdata storage to authenticate the API requests."
      ],
      "metadata": {
        "id": "EmRwCwMahFsJ"
      }
    },
    {
      "cell_type": "code",
      "source": [
        "from google.colab import userdata\n",
        "GEMINI_API_KEY = userdata.get('GEMINI_API_KEY')\n"
      ],
      "metadata": {
        "id": "14AMyTf1f6MF"
      },
      "execution_count": 5,
      "outputs": []
    },
    {
      "cell_type": "markdown",
      "source": [
        "Step 4: Initialize the Chat Model\n",
        "**bold text**Create an instance of ChatGoogleGenerativeAI by specifying the model and the API key.\n"
      ],
      "metadata": {
        "id": "-QW08x06hQLW"
      }
    },
    {
      "cell_type": "code",
      "source": [
        "llm = ChatGoogleGenerativeAI(\n",
        "    model=\"gemini-2.0-flash-exp\",  # Use the appropriate model version\n",
        "    api_key=GEMINI_API_KEY       # Provide the retrieved API key\n",
        ")\n"
      ],
      "metadata": {
        "id": "TRUXZLbFgAgT"
      },
      "execution_count": 12,
      "outputs": []
    },
    {
      "cell_type": "markdown",
      "source": [
        "Step 5: Query the Model\n",
        "**bold text**Send a query to the model and store the response. Finally, print the model's output."
      ],
      "metadata": {
        "id": "YJ7ADe9IhWNR"
      }
    },
    {
      "cell_type": "code",
      "source": [
        "response = llm.invoke(\"What would happen if the Earth stopped spinning suddenly?\")\n",
        "print(response)\n"
      ],
      "metadata": {
        "colab": {
          "base_uri": "https://localhost:8080/"
        },
        "id": "B8W8JFEggHoD",
        "outputId": "383a0c5e-0434-44ab-f11c-54593442745d"
      },
      "execution_count": 13,
      "outputs": [
        {
          "output_type": "stream",
          "name": "stdout",
          "text": [
            "content=\"If the Earth were to suddenly stop spinning, the consequences would be catastrophic and almost unimaginable. Here's a breakdown of the major effects:\\n\\n**Immediate Effects:**\\n\\n* **Momentum Catastrophe:** Everything not anchored to the bedrock would continue moving eastward at the Earth's rotational speed, which is roughly 1,000 mph (1,600 km/h) at the equator. This includes:\\n    * **Objects:** People, cars, buildings, trees, everything not bolted down would be flung eastward with tremendous force.\\n    * **Atmosphere:** The air would be ripped away from the surface, creating incredibly powerful winds, likely exceeding the speed of sound.\\n    * **Oceans:** Massive tidal waves, hundreds or even thousands of feet high, would sweep across the globe, inundating coastal areas and causing widespread devastation.\\n\\n* **Global Firestorm:** The friction generated by objects being dragged across the surface at such high speeds would likely ignite widespread fires.\\n\\n* **Massive Earthquakes and Volcanic Eruptions:** The sudden change in momentum would put immense stress on the Earth's crust, triggering massive earthquakes and volcanic eruptions.\\n\\n* **Global Disorientation:** The day-night cycle would be completely disrupted, with one side of the Earth facing the sun continuously for six months and the other plunged into darkness for the same period. This would have devastating effects on ecosystems and climate.\\n\\n**Longer-Term Effects:**\\n\\n* **Climate Devastation:** The cessation of the Earth's rotation would drastically alter global wind patterns and ocean currents, leading to extreme and unpredictable weather. The lack of a day-night cycle would cause extreme temperature differences between the sunlit and dark sides of the planet.\\n\\n* **Loss of Magnetic Field:** The Earth's magnetic field is generated by the movement of molten iron in the Earth's core. If the rotation stops, this dynamo effect would likely cease, leading to the loss of the magnetic field. This would expose the Earth's surface to harmful solar radiation and cosmic rays.\\n\\n* **Ecosystem Collapse:** The combination of the immediate devastation, climate change, and loss of the magnetic field would lead to the collapse of most, if not all, ecosystems.\\n\\n* **Near-Total Extinction:** It is highly likely that the vast majority of life on Earth, including humans, would not survive such an event.\\n\\n**Why this is Unlikely to Happen:**\\n\\n* **Conservation of Angular Momentum:** The Earth's rotation is governed by the law of conservation of angular momentum. To stop it suddenly would require an external force of unimaginable magnitude, something we don't know of in the universe.\\n* **Gradual Changes:** Natural processes that could affect Earth's rotation, like the gravitational pull of the moon, happen very gradually over millions of years. They cause a slight slowing of the rotation, not a sudden stop.\\n\\n**In Summary:**\\n\\nA sudden stop of Earth's rotation would be a cataclysmic event of unparalleled scale. It would result in global destruction, widespread extinction, and a dramatically altered planet. While the scenario is a fascinating thought experiment, it is fortunately a highly improbable event due to the fundamental laws of physics. It serves as a reminder of the delicate balance that allows life on Earth to thrive.\\n\" additional_kwargs={} response_metadata={'prompt_feedback': {'block_reason': 0, 'safety_ratings': []}, 'finish_reason': 'STOP', 'safety_ratings': [{'category': 'HARM_CATEGORY_HATE_SPEECH', 'probability': 'NEGLIGIBLE', 'blocked': False}, {'category': 'HARM_CATEGORY_DANGEROUS_CONTENT', 'probability': 'NEGLIGIBLE', 'blocked': False}, {'category': 'HARM_CATEGORY_HARASSMENT', 'probability': 'NEGLIGIBLE', 'blocked': False}, {'category': 'HARM_CATEGORY_SEXUALLY_EXPLICIT', 'probability': 'NEGLIGIBLE', 'blocked': False}]} id='run-852b5911-833f-48b9-9177-32b470176190-0' usage_metadata={'input_tokens': 11, 'output_tokens': 668, 'total_tokens': 679, 'input_token_details': {'cache_read': 0}}\n"
          ]
        }
      ]
    },
    {
      "cell_type": "code",
      "source": [
        "response = llm.invoke(\"What is the total area of Pakistan?\")\n",
        "print(response)"
      ],
      "metadata": {
        "colab": {
          "base_uri": "https://localhost:8080/"
        },
        "id": "CXCazaULhsGw",
        "outputId": "34cf72c1-1767-4293-cf55-7ef0d73f9858"
      },
      "execution_count": 14,
      "outputs": [
        {
          "output_type": "stream",
          "name": "stdout",
          "text": [
            "content='The total area of Pakistan is **approximately 796,095 square kilometers (307,374 square miles)**.\\n\\nThis includes the Pakistani-administered portion of Kashmir.\\n' additional_kwargs={} response_metadata={'prompt_feedback': {'block_reason': 0, 'safety_ratings': []}, 'finish_reason': 'STOP', 'safety_ratings': [{'category': 'HARM_CATEGORY_HATE_SPEECH', 'probability': 'NEGLIGIBLE', 'blocked': False}, {'category': 'HARM_CATEGORY_DANGEROUS_CONTENT', 'probability': 'NEGLIGIBLE', 'blocked': False}, {'category': 'HARM_CATEGORY_HARASSMENT', 'probability': 'NEGLIGIBLE', 'blocked': False}, {'category': 'HARM_CATEGORY_SEXUALLY_EXPLICIT', 'probability': 'NEGLIGIBLE', 'blocked': False}]} id='run-75e91beb-5a60-45ec-a667-43f6a1ef85ae-0' usage_metadata={'input_tokens': 9, 'output_tokens': 42, 'total_tokens': 51, 'input_token_details': {'cache_read': 0}}\n"
          ]
        }
      ]
    }
  ]
}